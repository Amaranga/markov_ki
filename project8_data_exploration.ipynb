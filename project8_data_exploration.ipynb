{
 "cells": [
  {
   "cell_type": "code",
   "execution_count": 40,
   "source": [
    "import pandas as pd\n",
    "import seaborn as sns\n",
    "import matplotlib.pyplot as plt\n",
    "import glob # A module to match regular expressions in this case we want to match all csv files in a folder and flush them out!\n",
    "import calendar"
   ],
   "outputs": [],
   "metadata": {}
  },
  {
   "cell_type": "code",
   "execution_count": 41,
   "source": [
    "data_path = \"data\""
   ],
   "outputs": [],
   "metadata": {}
  },
  {
   "cell_type": "code",
   "execution_count": 42,
   "source": [
    "# Lets get all files with their respective paths \n",
    "all_csv_files = glob.glob(f'{data_path}/*y.csv')"
   ],
   "outputs": [],
   "metadata": {}
  },
  {
   "cell_type": "code",
   "execution_count": 43,
   "source": [
    "# Create a function that orders day of week\n",
    "def order_files_by_day_of_week(files):\n",
    "    filenames = []\n",
    "    days = [i.split(\"/\")[1].split(\".\")[0].title() for i in all_csv_files]\n",
    "    for ordered_day in list(calendar.day_name):\n",
    "        if ordered_day in days:\n",
    "            index = days.index(ordered_day)\n",
    "            filenames.append(files[index])\n",
    "    return filenames"
   ],
   "outputs": [],
   "metadata": {}
  },
  {
   "cell_type": "code",
   "execution_count": 44,
   "source": [
    "# Get ordered files \n",
    "files = order_files_by_day_of_week(all_csv_files)"
   ],
   "outputs": [],
   "metadata": {}
  },
  {
   "cell_type": "code",
   "execution_count": 45,
   "source": [
    "# Read the files\n",
    "df_list = [pd.read_csv(i, index_col = 0, parse_dates=True, sep=\";\") for i in files]"
   ],
   "outputs": [],
   "metadata": {}
  },
  {
   "cell_type": "code",
   "execution_count": 46,
   "source": [
    "# Get abbreviated weekly names from files \n",
    "weekly_names = [i.split(\"/\")[1].split(\".\")[0][0:3] for i in files]"
   ],
   "outputs": [],
   "metadata": {}
  },
  {
   "cell_type": "code",
   "execution_count": 47,
   "source": [
    "# Put dataframe list into a dictionary \n",
    "df_dict = {}\n",
    "count = 0 \n",
    "for week_name in weekly_names:\n",
    "    df_dict[week_name] = df_list[count]\n",
    "    count += 1\n",
    "calendar.day_name[calendar.firstweekday()]"
   ],
   "outputs": [
    {
     "output_type": "execute_result",
     "data": {
      "text/plain": [
       "'Monday'"
      ]
     },
     "metadata": {},
     "execution_count": 47
    }
   ],
   "metadata": {}
  },
  {
   "cell_type": "code",
   "execution_count": 48,
   "source": [
    "# Give unique id to a customer and concatenate into one huge dataframe\n",
    "\n",
    "df_all = [] \n",
    "for key in df_dict.keys():\n",
    "    df = df_dict[key]\n",
    "    df[\"day_of_week\"] = df.index.day_name()\n",
    "    df[\"customer_no\"] = df[\"customer_no\"].astype(str)\n",
    "    df[\"shortened_day\"] = [i[0:3] for i in df[\"day_of_week\"].tolist()]\n",
    "    df[\"customer_id\"] = df[\"customer_no\"] + \"_\" + df[\"shortened_day\"]\n",
    "    df.drop(\"shortened_day\", axis = 1, inplace=True)\n",
    "    df_all.append(df)\n",
    "\n",
    "df_all = pd.concat(df_all)"
   ],
   "outputs": [
    {
     "output_type": "execute_result",
     "data": {
      "text/plain": [
       "                    customer_no  location day_of_week customer_id\n",
       "timestamp                                                        \n",
       "2019-09-02 07:03:00           1     dairy      Monday       1_Mon\n",
       "2019-09-02 07:03:00           2     dairy      Monday       2_Mon\n",
       "2019-09-02 07:04:00           3     dairy      Monday       3_Mon\n",
       "2019-09-02 07:04:00           4     dairy      Monday       4_Mon\n",
       "2019-09-02 07:04:00           5    spices      Monday       5_Mon\n",
       "...                         ...       ...         ...         ...\n",
       "2019-09-06 21:50:00        1500     dairy      Friday    1500_Fri\n",
       "2019-09-06 21:50:00        1507  checkout      Friday    1507_Fri\n",
       "2019-09-06 21:50:00        1508  checkout      Friday    1508_Fri\n",
       "2019-09-06 21:50:00        1509    drinks      Friday    1509_Fri\n",
       "2019-09-06 21:50:00        1510    spices      Friday    1510_Fri\n",
       "\n",
       "[24877 rows x 4 columns]"
      ],
      "text/html": [
       "<div>\n",
       "<style scoped>\n",
       "    .dataframe tbody tr th:only-of-type {\n",
       "        vertical-align: middle;\n",
       "    }\n",
       "\n",
       "    .dataframe tbody tr th {\n",
       "        vertical-align: top;\n",
       "    }\n",
       "\n",
       "    .dataframe thead th {\n",
       "        text-align: right;\n",
       "    }\n",
       "</style>\n",
       "<table border=\"1\" class=\"dataframe\">\n",
       "  <thead>\n",
       "    <tr style=\"text-align: right;\">\n",
       "      <th></th>\n",
       "      <th>customer_no</th>\n",
       "      <th>location</th>\n",
       "      <th>day_of_week</th>\n",
       "      <th>customer_id</th>\n",
       "    </tr>\n",
       "    <tr>\n",
       "      <th>timestamp</th>\n",
       "      <th></th>\n",
       "      <th></th>\n",
       "      <th></th>\n",
       "      <th></th>\n",
       "    </tr>\n",
       "  </thead>\n",
       "  <tbody>\n",
       "    <tr>\n",
       "      <th>2019-09-02 07:03:00</th>\n",
       "      <td>1</td>\n",
       "      <td>dairy</td>\n",
       "      <td>Monday</td>\n",
       "      <td>1_Mon</td>\n",
       "    </tr>\n",
       "    <tr>\n",
       "      <th>2019-09-02 07:03:00</th>\n",
       "      <td>2</td>\n",
       "      <td>dairy</td>\n",
       "      <td>Monday</td>\n",
       "      <td>2_Mon</td>\n",
       "    </tr>\n",
       "    <tr>\n",
       "      <th>2019-09-02 07:04:00</th>\n",
       "      <td>3</td>\n",
       "      <td>dairy</td>\n",
       "      <td>Monday</td>\n",
       "      <td>3_Mon</td>\n",
       "    </tr>\n",
       "    <tr>\n",
       "      <th>2019-09-02 07:04:00</th>\n",
       "      <td>4</td>\n",
       "      <td>dairy</td>\n",
       "      <td>Monday</td>\n",
       "      <td>4_Mon</td>\n",
       "    </tr>\n",
       "    <tr>\n",
       "      <th>2019-09-02 07:04:00</th>\n",
       "      <td>5</td>\n",
       "      <td>spices</td>\n",
       "      <td>Monday</td>\n",
       "      <td>5_Mon</td>\n",
       "    </tr>\n",
       "    <tr>\n",
       "      <th>...</th>\n",
       "      <td>...</td>\n",
       "      <td>...</td>\n",
       "      <td>...</td>\n",
       "      <td>...</td>\n",
       "    </tr>\n",
       "    <tr>\n",
       "      <th>2019-09-06 21:50:00</th>\n",
       "      <td>1500</td>\n",
       "      <td>dairy</td>\n",
       "      <td>Friday</td>\n",
       "      <td>1500_Fri</td>\n",
       "    </tr>\n",
       "    <tr>\n",
       "      <th>2019-09-06 21:50:00</th>\n",
       "      <td>1507</td>\n",
       "      <td>checkout</td>\n",
       "      <td>Friday</td>\n",
       "      <td>1507_Fri</td>\n",
       "    </tr>\n",
       "    <tr>\n",
       "      <th>2019-09-06 21:50:00</th>\n",
       "      <td>1508</td>\n",
       "      <td>checkout</td>\n",
       "      <td>Friday</td>\n",
       "      <td>1508_Fri</td>\n",
       "    </tr>\n",
       "    <tr>\n",
       "      <th>2019-09-06 21:50:00</th>\n",
       "      <td>1509</td>\n",
       "      <td>drinks</td>\n",
       "      <td>Friday</td>\n",
       "      <td>1509_Fri</td>\n",
       "    </tr>\n",
       "    <tr>\n",
       "      <th>2019-09-06 21:50:00</th>\n",
       "      <td>1510</td>\n",
       "      <td>spices</td>\n",
       "      <td>Friday</td>\n",
       "      <td>1510_Fri</td>\n",
       "    </tr>\n",
       "  </tbody>\n",
       "</table>\n",
       "<p>24877 rows × 4 columns</p>\n",
       "</div>"
      ]
     },
     "metadata": {},
     "execution_count": 48
    }
   ],
   "metadata": {}
  },
  {
   "cell_type": "code",
   "execution_count": 49,
   "source": [
    "df_mo = pd.read_csv(f'{data_path}/monday.csv', index_col = 0, parse_dates=True, sep=';')\n",
    "df_tu = pd.read_csv(f'{data_path}/tuesday.csv',  index_col = 0,parse_dates=True, sep=';')\n",
    "df_we = pd.read_csv(f'{data_path}/wednesday.csv',  index_col = 0,parse_dates=True, sep=';')\n",
    "df_th = pd.read_csv(f'{data_path}/thursday.csv',  index_col = 0,parse_dates=True, sep=';')\n",
    "df_fr = pd.read_csv(f'{data_path}/friday.csv',  index_col = 0,parse_dates=True, sep=';')\n"
   ],
   "outputs": [],
   "metadata": {}
  },
  {
   "cell_type": "code",
   "execution_count": null,
   "source": [],
   "outputs": [],
   "metadata": {}
  },
  {
   "cell_type": "code",
   "execution_count": 50,
   "source": [
    "df_all = pd.concat([df_mo, df_tu, df_we, df_th, df_fr])"
   ],
   "outputs": [],
   "metadata": {}
  },
  {
   "cell_type": "code",
   "execution_count": 51,
   "source": [
    "df_all.shape"
   ],
   "outputs": [
    {
     "output_type": "execute_result",
     "data": {
      "text/plain": [
       "(24877, 2)"
      ]
     },
     "metadata": {},
     "execution_count": 51
    }
   ],
   "metadata": {}
  },
  {
   "cell_type": "code",
   "execution_count": 52,
   "source": [
    "df_all['date'] = pd.to_datetime(df_all['timestamp'])"
   ],
   "outputs": [
    {
     "output_type": "error",
     "ename": "KeyError",
     "evalue": "'timestamp'",
     "traceback": [
      "\u001b[0;31m---------------------------------------------------------------------------\u001b[0m",
      "\u001b[0;31mKeyError\u001b[0m                                  Traceback (most recent call last)",
      "\u001b[0;32m~/anaconda3/lib/python3.7/site-packages/pandas/core/indexes/base.py\u001b[0m in \u001b[0;36mget_loc\u001b[0;34m(self, key, method, tolerance)\u001b[0m\n\u001b[1;32m   3080\u001b[0m             \u001b[0;32mtry\u001b[0m\u001b[0;34m:\u001b[0m\u001b[0;34m\u001b[0m\u001b[0;34m\u001b[0m\u001b[0m\n\u001b[0;32m-> 3081\u001b[0;31m                 \u001b[0;32mreturn\u001b[0m \u001b[0mself\u001b[0m\u001b[0;34m.\u001b[0m\u001b[0m_engine\u001b[0m\u001b[0;34m.\u001b[0m\u001b[0mget_loc\u001b[0m\u001b[0;34m(\u001b[0m\u001b[0mcasted_key\u001b[0m\u001b[0;34m)\u001b[0m\u001b[0;34m\u001b[0m\u001b[0;34m\u001b[0m\u001b[0m\n\u001b[0m\u001b[1;32m   3082\u001b[0m             \u001b[0;32mexcept\u001b[0m \u001b[0mKeyError\u001b[0m \u001b[0;32mas\u001b[0m \u001b[0merr\u001b[0m\u001b[0;34m:\u001b[0m\u001b[0;34m\u001b[0m\u001b[0;34m\u001b[0m\u001b[0m\n",
      "\u001b[0;32mpandas/_libs/index.pyx\u001b[0m in \u001b[0;36mpandas._libs.index.IndexEngine.get_loc\u001b[0;34m()\u001b[0m\n",
      "\u001b[0;32mpandas/_libs/index.pyx\u001b[0m in \u001b[0;36mpandas._libs.index.IndexEngine.get_loc\u001b[0;34m()\u001b[0m\n",
      "\u001b[0;32mpandas/_libs/hashtable_class_helper.pxi\u001b[0m in \u001b[0;36mpandas._libs.hashtable.PyObjectHashTable.get_item\u001b[0;34m()\u001b[0m\n",
      "\u001b[0;32mpandas/_libs/hashtable_class_helper.pxi\u001b[0m in \u001b[0;36mpandas._libs.hashtable.PyObjectHashTable.get_item\u001b[0;34m()\u001b[0m\n",
      "\u001b[0;31mKeyError\u001b[0m: 'timestamp'",
      "\nThe above exception was the direct cause of the following exception:\n",
      "\u001b[0;31mKeyError\u001b[0m                                  Traceback (most recent call last)",
      "\u001b[0;32m<ipython-input-52-cdbe672eccf3>\u001b[0m in \u001b[0;36m<module>\u001b[0;34m\u001b[0m\n\u001b[0;32m----> 1\u001b[0;31m \u001b[0mdf_all\u001b[0m\u001b[0;34m[\u001b[0m\u001b[0;34m'date'\u001b[0m\u001b[0;34m]\u001b[0m \u001b[0;34m=\u001b[0m \u001b[0mpd\u001b[0m\u001b[0;34m.\u001b[0m\u001b[0mto_datetime\u001b[0m\u001b[0;34m(\u001b[0m\u001b[0mdf_all\u001b[0m\u001b[0;34m[\u001b[0m\u001b[0;34m'timestamp'\u001b[0m\u001b[0;34m]\u001b[0m\u001b[0;34m)\u001b[0m\u001b[0;34m\u001b[0m\u001b[0;34m\u001b[0m\u001b[0m\n\u001b[0m",
      "\u001b[0;32m~/anaconda3/lib/python3.7/site-packages/pandas/core/frame.py\u001b[0m in \u001b[0;36m__getitem__\u001b[0;34m(self, key)\u001b[0m\n\u001b[1;32m   3022\u001b[0m             \u001b[0;32mif\u001b[0m \u001b[0mself\u001b[0m\u001b[0;34m.\u001b[0m\u001b[0mcolumns\u001b[0m\u001b[0;34m.\u001b[0m\u001b[0mnlevels\u001b[0m \u001b[0;34m>\u001b[0m \u001b[0;36m1\u001b[0m\u001b[0;34m:\u001b[0m\u001b[0;34m\u001b[0m\u001b[0;34m\u001b[0m\u001b[0m\n\u001b[1;32m   3023\u001b[0m                 \u001b[0;32mreturn\u001b[0m \u001b[0mself\u001b[0m\u001b[0;34m.\u001b[0m\u001b[0m_getitem_multilevel\u001b[0m\u001b[0;34m(\u001b[0m\u001b[0mkey\u001b[0m\u001b[0;34m)\u001b[0m\u001b[0;34m\u001b[0m\u001b[0;34m\u001b[0m\u001b[0m\n\u001b[0;32m-> 3024\u001b[0;31m             \u001b[0mindexer\u001b[0m \u001b[0;34m=\u001b[0m \u001b[0mself\u001b[0m\u001b[0;34m.\u001b[0m\u001b[0mcolumns\u001b[0m\u001b[0;34m.\u001b[0m\u001b[0mget_loc\u001b[0m\u001b[0;34m(\u001b[0m\u001b[0mkey\u001b[0m\u001b[0;34m)\u001b[0m\u001b[0;34m\u001b[0m\u001b[0;34m\u001b[0m\u001b[0m\n\u001b[0m\u001b[1;32m   3025\u001b[0m             \u001b[0;32mif\u001b[0m \u001b[0mis_integer\u001b[0m\u001b[0;34m(\u001b[0m\u001b[0mindexer\u001b[0m\u001b[0;34m)\u001b[0m\u001b[0;34m:\u001b[0m\u001b[0;34m\u001b[0m\u001b[0;34m\u001b[0m\u001b[0m\n\u001b[1;32m   3026\u001b[0m                 \u001b[0mindexer\u001b[0m \u001b[0;34m=\u001b[0m \u001b[0;34m[\u001b[0m\u001b[0mindexer\u001b[0m\u001b[0;34m]\u001b[0m\u001b[0;34m\u001b[0m\u001b[0;34m\u001b[0m\u001b[0m\n",
      "\u001b[0;32m~/anaconda3/lib/python3.7/site-packages/pandas/core/indexes/base.py\u001b[0m in \u001b[0;36mget_loc\u001b[0;34m(self, key, method, tolerance)\u001b[0m\n\u001b[1;32m   3081\u001b[0m                 \u001b[0;32mreturn\u001b[0m \u001b[0mself\u001b[0m\u001b[0;34m.\u001b[0m\u001b[0m_engine\u001b[0m\u001b[0;34m.\u001b[0m\u001b[0mget_loc\u001b[0m\u001b[0;34m(\u001b[0m\u001b[0mcasted_key\u001b[0m\u001b[0;34m)\u001b[0m\u001b[0;34m\u001b[0m\u001b[0;34m\u001b[0m\u001b[0m\n\u001b[1;32m   3082\u001b[0m             \u001b[0;32mexcept\u001b[0m \u001b[0mKeyError\u001b[0m \u001b[0;32mas\u001b[0m \u001b[0merr\u001b[0m\u001b[0;34m:\u001b[0m\u001b[0;34m\u001b[0m\u001b[0;34m\u001b[0m\u001b[0m\n\u001b[0;32m-> 3083\u001b[0;31m                 \u001b[0;32mraise\u001b[0m \u001b[0mKeyError\u001b[0m\u001b[0;34m(\u001b[0m\u001b[0mkey\u001b[0m\u001b[0;34m)\u001b[0m \u001b[0;32mfrom\u001b[0m \u001b[0merr\u001b[0m\u001b[0;34m\u001b[0m\u001b[0;34m\u001b[0m\u001b[0m\n\u001b[0m\u001b[1;32m   3084\u001b[0m \u001b[0;34m\u001b[0m\u001b[0m\n\u001b[1;32m   3085\u001b[0m         \u001b[0;32mif\u001b[0m \u001b[0mtolerance\u001b[0m \u001b[0;32mis\u001b[0m \u001b[0;32mnot\u001b[0m \u001b[0;32mNone\u001b[0m\u001b[0;34m:\u001b[0m\u001b[0;34m\u001b[0m\u001b[0;34m\u001b[0m\u001b[0m\n",
      "\u001b[0;31mKeyError\u001b[0m: 'timestamp'"
     ]
    }
   ],
   "metadata": {}
  },
  {
   "cell_type": "code",
   "execution_count": null,
   "source": [
    "df_all['day'] =df_all['date'].dt.day_name()\n",
    "df_all['hour'] =df_all['date'].dt.hour\n",
    "df_all.head()"
   ],
   "outputs": [
    {
     "output_type": "execute_result",
     "data": {
      "text/plain": [
       "             timestamp  customer_no location                date     day  hour\n",
       "0  2019-09-02 07:03:00            1    dairy 2019-09-02 07:03:00  Monday     7\n",
       "1  2019-09-02 07:03:00            2    dairy 2019-09-02 07:03:00  Monday     7\n",
       "2  2019-09-02 07:04:00            3    dairy 2019-09-02 07:04:00  Monday     7\n",
       "3  2019-09-02 07:04:00            4    dairy 2019-09-02 07:04:00  Monday     7\n",
       "4  2019-09-02 07:04:00            5   spices 2019-09-02 07:04:00  Monday     7"
      ],
      "text/html": [
       "<div>\n",
       "<style scoped>\n",
       "    .dataframe tbody tr th:only-of-type {\n",
       "        vertical-align: middle;\n",
       "    }\n",
       "\n",
       "    .dataframe tbody tr th {\n",
       "        vertical-align: top;\n",
       "    }\n",
       "\n",
       "    .dataframe thead th {\n",
       "        text-align: right;\n",
       "    }\n",
       "</style>\n",
       "<table border=\"1\" class=\"dataframe\">\n",
       "  <thead>\n",
       "    <tr style=\"text-align: right;\">\n",
       "      <th></th>\n",
       "      <th>timestamp</th>\n",
       "      <th>customer_no</th>\n",
       "      <th>location</th>\n",
       "      <th>date</th>\n",
       "      <th>day</th>\n",
       "      <th>hour</th>\n",
       "    </tr>\n",
       "  </thead>\n",
       "  <tbody>\n",
       "    <tr>\n",
       "      <th>0</th>\n",
       "      <td>2019-09-02 07:03:00</td>\n",
       "      <td>1</td>\n",
       "      <td>dairy</td>\n",
       "      <td>2019-09-02 07:03:00</td>\n",
       "      <td>Monday</td>\n",
       "      <td>7</td>\n",
       "    </tr>\n",
       "    <tr>\n",
       "      <th>1</th>\n",
       "      <td>2019-09-02 07:03:00</td>\n",
       "      <td>2</td>\n",
       "      <td>dairy</td>\n",
       "      <td>2019-09-02 07:03:00</td>\n",
       "      <td>Monday</td>\n",
       "      <td>7</td>\n",
       "    </tr>\n",
       "    <tr>\n",
       "      <th>2</th>\n",
       "      <td>2019-09-02 07:04:00</td>\n",
       "      <td>3</td>\n",
       "      <td>dairy</td>\n",
       "      <td>2019-09-02 07:04:00</td>\n",
       "      <td>Monday</td>\n",
       "      <td>7</td>\n",
       "    </tr>\n",
       "    <tr>\n",
       "      <th>3</th>\n",
       "      <td>2019-09-02 07:04:00</td>\n",
       "      <td>4</td>\n",
       "      <td>dairy</td>\n",
       "      <td>2019-09-02 07:04:00</td>\n",
       "      <td>Monday</td>\n",
       "      <td>7</td>\n",
       "    </tr>\n",
       "    <tr>\n",
       "      <th>4</th>\n",
       "      <td>2019-09-02 07:04:00</td>\n",
       "      <td>5</td>\n",
       "      <td>spices</td>\n",
       "      <td>2019-09-02 07:04:00</td>\n",
       "      <td>Monday</td>\n",
       "      <td>7</td>\n",
       "    </tr>\n",
       "  </tbody>\n",
       "</table>\n",
       "</div>"
      ]
     },
     "metadata": {},
     "execution_count": 19
    }
   ],
   "metadata": {}
  },
  {
   "cell_type": "code",
   "execution_count": null,
   "source": [
    "df_all['location'].value_counts()"
   ],
   "outputs": [
    {
     "output_type": "execute_result",
     "data": {
      "text/plain": [
       "checkout    7417\n",
       "fruit       5122\n",
       "dairy       4679\n",
       "drinks      3905\n",
       "spices      3754\n",
       "Name: location, dtype: int64"
      ]
     },
     "metadata": {},
     "execution_count": 21
    }
   ],
   "metadata": {}
  },
  {
   "cell_type": "markdown",
   "source": [
    "## Calculate the total number of customers in each section"
   ],
   "metadata": {}
  },
  {
   "cell_type": "code",
   "execution_count": null,
   "source": [
    "sns.countplot(x=df_all.location)"
   ],
   "outputs": [
    {
     "output_type": "execute_result",
     "data": {
      "text/plain": [
       "<AxesSubplot:xlabel='location', ylabel='count'>"
      ]
     },
     "metadata": {},
     "execution_count": 12
    },
    {
     "output_type": "display_data",
     "data": {
      "text/plain": [
       "<Figure size 432x288 with 1 Axes>"
      ],
      "image/png": "[encoded data removed]"
     },
     "metadata": {
      "needs_background": "light"
     }
    }
   ],
   "metadata": {}
  },
  {
   "cell_type": "markdown",
   "source": [
    "## Calculate the total number of customers in each section over time"
   ],
   "metadata": {}
  },
  {
   "cell_type": "code",
   "execution_count": null,
   "source": [
    "sns.countplot(x=df_all.location, hue=df_all.hour)\n",
    "plt.legend(bbox_to_anchor=(1.17, 0.5), loc=5)"
   ],
   "outputs": [
    {
     "output_type": "execute_result",
     "data": {
      "text/plain": [
       "<matplotlib.legend.Legend at 0x7fc28dccf0a0>"
      ]
     },
     "metadata": {},
     "execution_count": 34
    },
    {
     "output_type": "display_data",
     "data": {
      "text/plain": [
       "<Figure size 432x288 with 1 Axes>"
      ],
      "image/png": "[encoded data removed]"
     },
     "metadata": {
      "needs_background": "light"
     }
    }
   ],
   "metadata": {}
  },
  {
   "cell_type": "markdown",
   "source": [
    "## Display the number of customers at checkout over time"
   ],
   "metadata": {}
  },
  {
   "cell_type": "code",
   "execution_count": null,
   "source": [
    "sns.countplot(x=df_all.location=='checkout', hue=df_all.hour)\n",
    "plt.legend(bbox_to_anchor=(1.17, 0.5), loc=5)\n",
    "#plt.legend(bbox_to_anchor=(1.05, 1), loc=2, borderaxespad=0.)"
   ],
   "outputs": [
    {
     "output_type": "execute_result",
     "data": {
      "text/plain": [
       "<matplotlib.legend.Legend at 0x7fc2a9d857c0>"
      ]
     },
     "metadata": {},
     "execution_count": 33
    },
    {
     "output_type": "display_data",
     "data": {
      "text/plain": [
       "<Figure size 432x288 with 1 Axes>"
      ],
      "image/png": "[encoded data removed]"
     },
     "metadata": {
      "needs_background": "light"
     }
    }
   ],
   "metadata": {}
  },
  {
   "cell_type": "code",
   "execution_count": null,
   "source": [
    "sns.countplot(x=df_all.location, hue=df_all.hour)\n",
    "plt.legend(bbox_to_anchor=(1.17, 0.5), loc=5)"
   ],
   "outputs": [
    {
     "output_type": "execute_result",
     "data": {
      "text/plain": [
       "<matplotlib.legend.Legend at 0x7fc29ac36610>"
      ]
     },
     "metadata": {},
     "execution_count": 28
    },
    {
     "output_type": "display_data",
     "data": {
      "text/plain": [
       "<Figure size 432x288 with 1 Axes>"
      ],
      "image/png": "[encoded data removed]"
     },
     "metadata": {
      "needs_background": "light"
     }
    }
   ],
   "metadata": {}
  },
  {
   "cell_type": "code",
   "execution_count": null,
   "source": [
    "sns.countplot(data=df_all, x='location', hue='day')\n",
    "plt.legend(bbox_to_anchor=(1.3, 0.5), loc=5)"
   ],
   "outputs": [
    {
     "output_type": "execute_result",
     "data": {
      "text/plain": [
       "<matplotlib.legend.Legend at 0x7fc2bb4063d0>"
      ]
     },
     "metadata": {},
     "execution_count": 32
    },
    {
     "output_type": "display_data",
     "data": {
      "text/plain": [
       "<Figure size 432x288 with 1 Axes>"
      ],
      "image/png": "[encoded data removed]"
     },
     "metadata": {
      "needs_background": "light"
     }
    }
   ],
   "metadata": {}
  },
  {
   "cell_type": "markdown",
   "source": [
    "## Calculate the time each customer spent in the market\n"
   ],
   "metadata": {}
  },
  {
   "cell_type": "code",
   "execution_count": null,
   "source": [],
   "outputs": [],
   "metadata": {}
  },
  {
   "cell_type": "markdown",
   "source": [
    "## Calculate the total number of customers in the supermarket over time."
   ],
   "metadata": {}
  },
  {
   "cell_type": "code",
   "execution_count": null,
   "source": [],
   "outputs": [],
   "metadata": {}
  },
  {
   "cell_type": "code",
   "execution_count": null,
   "source": [
    "df_all.isnull().sum()"
   ],
   "outputs": [
    {
     "output_type": "execute_result",
     "data": {
      "text/plain": [
       "timestamp      0\n",
       "customer_no    0\n",
       "location       0\n",
       "date           0\n",
       "day            0\n",
       "hour           0\n",
       "dtype: int64"
      ]
     },
     "metadata": {},
     "execution_count": 10
    }
   ],
   "metadata": {}
  }
 ],
 "metadata": {
  "kernelspec": {
   "name": "python3",
   "display_name": "Python 3.7.10 64-bit ('base': conda)"
  },
  "language_info": {
   "codemirror_mode": {
    "name": "ipython",
    "version": 3
   },
   "file_extension": ".py",
   "mimetype": "text/x-python",
   "name": "python",
   "nbconvert_exporter": "python",
   "pygments_lexer": "ipython3",
   "version": "3.7.10"
  },
  "interpreter": {
   "hash": "d1a6c883964abd3c8a93face37ff746b6d03f1f90940b4b4bd475df2d4afba19"
  }
 },
 "nbformat": 4,
 "nbformat_minor": 4
}