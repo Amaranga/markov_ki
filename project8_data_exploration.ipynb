{
 "cells": [
  {
   "cell_type": "code",
   "execution_count": null,
   "source": [
    "import pandas as pd\n",
    "from datetime import datetime\n",
    "import seaborn as sns\n",
    "import matplotlib.pyplot as plt\n",
    "import glob # A module to match regular expressions in this case we want to match all csv files in a folder and flush them out!\n",
    "import calendar\n",
    "from tqdm import tqdm\n",
    "plt.rcParams[\"figure.figsize\"] = (18, 8)\n",
    "legend_size = 15\n",
    "plt.rcParams['legend.title_fontsize'] = legend_size\n",
    "plt.rcParams['xtick.labelsize']=20\n",
    "plt.rcParams['ytick.labelsize']=20\n",
    "plt.rcParams['axes.labelsize']=20\n",
    "plt.rcParams['axes.titlesize']=20"
   ],
   "outputs": [],
   "metadata": {}
  },
  {
   "cell_type": "markdown",
   "source": [
    "# **Section 1: Data Preprocessing**"
   ],
   "metadata": {}
  },
  {
   "cell_type": "code",
   "execution_count": null,
   "source": [
    "data_path = \"data\""
   ],
   "outputs": [],
   "metadata": {}
  },
  {
   "cell_type": "code",
   "execution_count": null,
   "source": [
    "# Lets get all files with their respective paths \n",
    "all_csv_files = glob.glob(f'{data_path}/*y.csv')\n",
    "all_csv_files"
   ],
   "outputs": [],
   "metadata": {}
  },
  {
   "cell_type": "code",
   "execution_count": null,
   "source": [
    "# Create a function that orders day of week\n",
    "def order_files_by_day_of_week(files):\n",
    "    filenames = []\n",
    "    days = [i.split(\"/\")[1].split(\".\")[0].title() for i in all_csv_files]\n",
    "    for ordered_day in list(calendar.day_name):\n",
    "        if ordered_day in days:\n",
    "            index = days.index(ordered_day)\n",
    "            filenames.append(files[index])\n",
    "    return filenames"
   ],
   "outputs": [],
   "metadata": {}
  },
  {
   "cell_type": "code",
   "execution_count": null,
   "source": [
    "# Get ordered files \n",
    "files = order_files_by_day_of_week(all_csv_files)\n",
    "files"
   ],
   "outputs": [],
   "metadata": {}
  },
  {
   "cell_type": "code",
   "execution_count": null,
   "source": [
    "# Read the files\n",
    "df_list = [pd.read_csv(i, index_col = 0, parse_dates=True, sep=\";\") for i in files]"
   ],
   "outputs": [],
   "metadata": {}
  },
  {
   "cell_type": "code",
   "execution_count": null,
   "source": [
    "# Get abbreviated weekly names from files \n",
    "weekly_names = [i.split(\"/\")[1].split(\".\")[0][0:3] for i in files]\n",
    "weekly_names"
   ],
   "outputs": [],
   "metadata": {}
  },
  {
   "cell_type": "code",
   "execution_count": null,
   "source": [
    "# Put dataframe list into a dictionary \n",
    "df_dict = {}\n",
    "count = 0 \n",
    "for week_name in weekly_names:\n",
    "    df_dict[week_name] = df_list[count]\n",
    "    count += 1\n",
    "calendar.day_name[calendar.firstweekday()]"
   ],
   "outputs": [],
   "metadata": {}
  },
  {
   "cell_type": "code",
   "execution_count": null,
   "source": [
    "# Give unique id to a customer and concatenate into one huge dataframe\n",
    "\n",
    "df_all = [] \n",
    "for key in df_dict.keys():\n",
    "    df = df_dict[key]\n",
    "    df[\"day_of_week\"] = df.index.day_name()\n",
    "    df[\"customer_no\"] = df[\"customer_no\"].astype(str)\n",
    "    df[\"shortened_day\"] = [i[0:3] for i in df[\"day_of_week\"].tolist()]\n",
    "    df[\"customer_id\"] = df[\"customer_no\"] + \"_\" + df[\"shortened_day\"]\n",
    "    df.drop(\"shortened_day\", axis = 1, inplace=True)\n",
    "    df_all.append(df)\n",
    "\n",
    "df_all = pd.concat(df_all)"
   ],
   "outputs": [],
   "metadata": {}
  },
  {
   "cell_type": "code",
   "execution_count": null,
   "source": [
    "# df_mo = pd.read_csv(f'{data_path}/monday.csv', index_col = 0, parse_dates=True, sep=';')\n",
    "# df_tu = pd.read_csv(f'{data_path}/tuesday.csv',  index_col = 0,parse_dates=True, sep=';')\n",
    "# df_we = pd.read_csv(f'{data_path}/wednesday.csv',  index_col = 0,parse_dates=True, sep=';')\n",
    "# df_th = pd.read_csv(f'{data_path}/thursday.csv',  index_col = 0,parse_dates=True, sep=';')\n",
    "# df_fr = pd.read_csv(f'{data_path}/friday.csv',  index_col = 0,parse_dates=True, sep=';')\n"
   ],
   "outputs": [],
   "metadata": {}
  },
  {
   "cell_type": "code",
   "execution_count": null,
   "source": [
    "# df_all = pd.concat([df_mo, df_tu, df_we, df_th, df_fr])"
   ],
   "outputs": [],
   "metadata": {}
  },
  {
   "cell_type": "code",
   "execution_count": null,
   "source": [
    "df_all.shape"
   ],
   "outputs": [],
   "metadata": {}
  },
  {
   "cell_type": "code",
   "execution_count": null,
   "source": [
    "# Add hour and minute column\n",
    "# df_all['date'] = pd.to_datetime(df_all['timestamp'])\n",
    "df_all[\"hour\"] = df_all.index.hour\n",
    "df_all[\"minute\"] = df_all.index.minute"
   ],
   "outputs": [],
   "metadata": {}
  },
  {
   "cell_type": "code",
   "execution_count": null,
   "source": [
    "# df_all['day'] =df_all['date'].dt.day_name()\n",
    "# df_all['hour'] =df_all['date'].dt.hour\n",
    "# df_all.head()"
   ],
   "outputs": [],
   "metadata": {}
  },
  {
   "cell_type": "code",
   "execution_count": null,
   "source": [
    "df_all['location'].value_counts()"
   ],
   "outputs": [],
   "metadata": {}
  },
  {
   "cell_type": "markdown",
   "source": [
    "# **Section 2: Real Deal (Answering the questions)**"
   ],
   "metadata": {}
  },
  {
   "cell_type": "markdown",
   "source": [
    "# 1. Calculate the total number of customers in each section"
   ],
   "metadata": {}
  },
  {
   "cell_type": "code",
   "execution_count": null,
   "source": [
    "sns.countplot(x=df_all.location)"
   ],
   "outputs": [],
   "metadata": {}
  },
  {
   "cell_type": "markdown",
   "source": [
    "# 2a. Calculate the total number of customers in each section over time (day)"
   ],
   "metadata": {}
  },
  {
   "cell_type": "code",
   "execution_count": null,
   "source": [
    "sns.countplot(x=df_all.location, hue=df_all.day_of_week)\n",
    "plt.legend(bbox_to_anchor=(1.1, 0.5), loc=5, title = \"day of week\", fontsize = 15)"
   ],
   "outputs": [],
   "metadata": {}
  },
  {
   "cell_type": "markdown",
   "source": [
    "# 2b. Calculate the total number of customers in each section over time: hour"
   ],
   "metadata": {}
  },
  {
   "cell_type": "code",
   "execution_count": null,
   "source": [
    "sns.countplot(x=df_all.location, hue=df_all.hour)\n",
    "plt.legend(bbox_to_anchor=(1.17, 0.5), loc=5, title=\"Hour of day\", prop = {\"size\": legend_size})\n",
    "plt.title(\"Hourly customer count per section\", fontsize = 30, fontweight = \"bold\")\n",
    "\n",
    "df_all[[\"customer_id\"]].groupby(df_all[\"location\"]).agg(\"count\")\n",
    "\n",
    "def checkout_by_hour(df):\n",
    "    # Get all hour timesteps \n",
    "    hours = [i for i in df.index.hour.unique()]\n",
    "    df_list = []\n",
    "    for hour in hours: \n",
    "        df_hour = df[df.index.hour == hour]\n",
    "        df_list.append(pd.DataFrame(df_hour[\"customer_id\"].groupby(df_hour[\"location\"]).count()))\n",
    "    final_df = pd.concat(df_list, axis = 1)\n",
    "    final_df.columns = hours \n",
    "    return final_df\n",
    "\n",
    "df_hour_location = checkout_by_hour(df_all)\n",
    "\n",
    "#sns.heatmap(my_df)\n",
    "df_hour_location.plot(kind = \"bar\")\n",
    "plt.ylabel(\"Count\")\n",
    "plt.legend(prop={\"size\": legend_size}, title = \"Hour of day\")\n",
    "df_hour_location"
   ],
   "outputs": [],
   "metadata": {}
  },
  {
   "cell_type": "markdown",
   "source": [
    "# 2c. Calculate the total number of customers in each section over time: minute"
   ],
   "metadata": {}
  },
  {
   "cell_type": "code",
   "execution_count": null,
   "source": [
    "\n",
    "sns.countplot(hue=df_all.location, x=df_all.minute)\n",
    "plt.legend(bbox_to_anchor=(1.1, 0.5), loc=5, title = \"Location\", fontsize = 15)\n",
    "plt.title(\"Minute customer count per section\", fontsize = 30, fontweight = \"bold\")"
   ],
   "outputs": [],
   "metadata": {}
  },
  {
   "cell_type": "markdown",
   "source": [
    "# 3. Display the number of customers at checkout over time"
   ],
   "metadata": {}
  },
  {
   "cell_type": "code",
   "execution_count": null,
   "source": [
    "df_checkout = df_all[df_all[\"location\"] == \"checkout\"]\n",
    "#sns.countplot(x=df_checkout[\"location\"], hue = df_checkout.index.hour)\n",
    "df_checkout[\"location\"].groupby(df_checkout.index.hour).count().plot(kind = \"bar\")\n",
    "plt.title(\"Customer checkout per hour\", fontsize = 20)\n"
   ],
   "outputs": [],
   "metadata": {}
  },
  {
   "cell_type": "markdown",
   "source": [
    "# 4. Calculate the time each customer spent in the market\n"
   ],
   "metadata": {}
  },
  {
   "cell_type": "code",
   "execution_count": null,
   "source": [
    "customer_ids = [i for i in df_all[\"customer_id\"].unique()]\n",
    "\n",
    "duration = []\n",
    "time_in = []\n",
    "time_out = []\n",
    "\n",
    "for customer_id in customer_ids:\n",
    "\n",
    "    df_day = df_all[df_all[\"customer_id\"] == customer_id]\n",
    "\n",
    "    #print(df_day)\n",
    "    if \"checkout\" in df_day[\"location\"].tolist():\n",
    "        min_time = df_day.index.min()\n",
    "        max_time = df_day.index.max()\n",
    "        diff = (max_time - min_time).seconds\n",
    "        duration.append(diff)\n",
    "        time_in.append(str(min_time))\n",
    "        time_out.append(str(max_time))\n",
    "   \n",
    "    else:\n",
    "        min_time = df_day.index.min()\n",
    "        construct_last_time = datetime.strptime(f'{str(max_time).split(\" \")[0]} 21:59:59', \"%Y-%m-%d %H:%M:%S\")\n",
    "        diff = construct_last_time - min_time\n",
    "        diff = diff.seconds\n",
    "        duration.append(diff)  \n",
    "        time_in.append(str(min_time))\n",
    "        time_out.append(str(construct_last_time))\n",
    "      "
   ],
   "outputs": [],
   "metadata": {}
  },
  {
   "cell_type": "markdown",
   "source": [
    "## Create a new dataframe with customer id, time in, time out and duration inside supermarket"
   ],
   "metadata": {}
  },
  {
   "cell_type": "code",
   "execution_count": null,
   "source": [
    "df_duration = pd.DataFrame({\"customer_id\": customer_ids, \"entry time\": time_in, \"exit time\": time_out, \"duration (secs)\": duration})\n",
    "df_duration[\"duration (mins)\"] = (df_duration[\"duration (secs)\"]/60).round(2)\n",
    "df_duration\n",
    "\n"
   ],
   "outputs": [],
   "metadata": {}
  },
  {
   "cell_type": "markdown",
   "source": [
    "# 5. Calculate the total number of customers in the supermarket over time\n",
    "## We calculate per hour"
   ],
   "metadata": {}
  },
  {
   "cell_type": "code",
   "execution_count": null,
   "source": [
    "df_customers_per_hour = pd.DataFrame(df_hour_location.sum(axis = 0), columns = [\"total\"])\n",
    "df_customers_per_hour[\"hour\"] = df_customers_per_hour.index\n",
    "df_customers_per_hour[\"total\"].plot(kind = \"bar\")\n",
    "plt.title(\"No of customers in the market\")\n",
    "plt.ylabel(\"Count\")\n",
    "plt.xlabel(\"Hour of day\")"
   ],
   "outputs": [],
   "metadata": {}
  },
  {
   "cell_type": "code",
   "execution_count": null,
   "source": [
    "def convert_digit_to_weekday(x):\n",
    "    if x == 0:\n",
    "        return \"Monday\"\n",
    "    if x == 1:\n",
    "        return \"Tuesday\"\n",
    "    if x == 2:\n",
    "        return \"Wednesday\"\n",
    "    if x == 3:\n",
    "        return \"Thursday\"\n",
    "    if x == 4:\n",
    "        return \"Friday\"\n",
    "    if x == 5:\n",
    "        return \"Saturday\"\n",
    "    if x == 6:\n",
    "        return \"Sunday\"\n",
    "        \n",
    "## We calculate per day \n",
    "df_day_total = pd.DataFrame(df_all[\"customer_id\"].groupby(df_all.index.dayofweek).count())\n",
    "df_day_total[\"day\"] = [convert_digit_to_weekday(i) for i in df_day_total.index]\n",
    "df_day_total.columns = [\"total\", \"day\"]\n",
    "df_day_total[[\"day\", \"total\"]].plot(kind = \"bar\")\n",
    "x = df_day_total.index.tolist()\n",
    "labels = df_day_total[\"day\"].tolist()\n",
    "plt.xticks(x, labels, rotation = 45)\n",
    "plt.xlabel(\"\")"
   ],
   "outputs": [],
   "metadata": {}
  },
  {
   "cell_type": "markdown",
   "source": [
    "# 5. Distribution of customers of their first visited section versus following sections"
   ],
   "metadata": {}
  },
  {
   "cell_type": "code",
   "execution_count": null,
   "source": [
    "import warnings\n",
    "warnings.filterwarnings('ignore')\n",
    "customer_ids = [i for i in df_all[\"customer_id\"].unique()]\n",
    "\n",
    "first_visited = []\n",
    "following = []\n",
    "df_list = []\n",
    "\n",
    "for customer_id in tqdm(customer_ids):\n",
    "    #print(f'{customer_id}/{len(customer_ids)}')\n",
    "    df_per_customer = df_all[df_all[\"customer_id\"] == customer_id]\n",
    "    df_per_customer[\"location_pattern\"] = None\n",
    "    df_per_customer[\"location_pattern\"][0] = \"first visited\"\n",
    "    df_per_customer[\"location_pattern\"][1:] = \"following\"\n",
    "    df_list.append(df_per_customer)\n",
    "df_visit = pd.concat(df_list, axis = 0)\n",
    "\n",
    "df_visit\n",
    "        "
   ],
   "outputs": [],
   "metadata": {}
  }
 ],
 "metadata": {
  "kernelspec": {
   "name": "python3",
   "display_name": "Python 3.7.10 64-bit ('base': conda)"
  },
  "language_info": {
   "codemirror_mode": {
    "name": "ipython",
    "version": 3
   },
   "file_extension": ".py",
   "mimetype": "text/x-python",
   "name": "python",
   "nbconvert_exporter": "python",
   "pygments_lexer": "ipython3",
   "version": "3.7.10"
  },
  "interpreter": {
   "hash": "d1a6c883964abd3c8a93face37ff746b6d03f1f90940b4b4bd475df2d4afba19"
  }
 },
 "nbformat": 4,
 "nbformat_minor": 4
}